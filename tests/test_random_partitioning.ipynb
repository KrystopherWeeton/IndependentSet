{
 "cells": [
  {
   "cell_type": "code",
   "execution_count": 2,
   "metadata": {
    "collapsed": true
   },
   "outputs": [],
   "source": [
    "from util.graph import PerfectGraphGenerator"
   ]
  },
  {
   "cell_type": "code",
   "execution_count": 3,
   "outputs": [
    {
     "name": "stdout",
     "output_type": "stream",
     "text": [
      "finished making tables after 17.099910974502563 seconds\n"
     ]
    }
   ],
   "source": [
    "generator = PerfectGraphGenerator(1000, .5, True)"
   ],
   "metadata": {
    "collapsed": false,
    "pycharm": {
     "name": "#%%\n"
    }
   }
  },
  {
   "cell_type": "code",
   "execution_count": 4,
   "outputs": [],
   "source": [
    "partitions: list = []\n",
    "for i in range(100):\n",
    "    if i % 10 == 0:\n",
    "        print(f'iteration {i}...')\n",
    "    partitions.append(generator.generate_random_partition(list(range(1000))))"
   ],
   "metadata": {
    "collapsed": false,
    "pycharm": {
     "name": "#%%\n"
    }
   }
  },
  {
   "cell_type": "code",
   "execution_count": 7,
   "outputs": [],
   "source": [
    "import numpy as np\n",
    "num_parts_per = [len(p) for p in partitions]\n",
    "avg_part_size = [np.average([len(part) for part in p]) for p in partitions]\n",
    "part_size_variance = [np.var([len(part) for part in p]) for p in partitions]"
   ],
   "metadata": {
    "collapsed": false,
    "pycharm": {
     "name": "#%%\n"
    }
   }
  },
  {
   "cell_type": "code",
   "execution_count": 8,
   "outputs": [
    {
     "name": "stdout",
     "output_type": "stream",
     "text": [
      "Average variance=5.092799683975195, Average average size=5.2967710621733435\n"
     ]
    }
   ],
   "source": [
    "print(f'Average variance={np.average(part_size_variance)}, Average average size={np.average(avg_part_size)}')"
   ],
   "metadata": {
    "collapsed": false,
    "pycharm": {
     "name": "#%%\n"
    }
   }
  },
  {
   "cell_type": "code",
   "execution_count": 9,
   "outputs": [
    {
     "name": "stdout",
     "output_type": "stream",
     "text": [
      "Average parts per=188.92, variance of parts per=23.6536\n"
     ]
    }
   ],
   "source": [
    "print(f'Average parts per={np.average(num_parts_per)}, variance of parts per={np.var(num_parts_per)}')"
   ],
   "metadata": {
    "collapsed": false,
    "pycharm": {
     "name": "#%%\n"
    }
   }
  }
 ],
 "metadata": {
  "kernelspec": {
   "display_name": "Python 3",
   "language": "python",
   "name": "python3"
  },
  "language_info": {
   "codemirror_mode": {
    "name": "ipython",
    "version": 2
   },
   "file_extension": ".py",
   "mimetype": "text/x-python",
   "name": "python",
   "nbconvert_exporter": "python",
   "pygments_lexer": "ipython2",
   "version": "2.7.6"
  }
 },
 "nbformat": 4,
 "nbformat_minor": 0
}