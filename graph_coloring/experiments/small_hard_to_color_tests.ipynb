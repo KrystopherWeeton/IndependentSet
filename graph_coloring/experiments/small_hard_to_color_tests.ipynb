{
 "cells": [
  {
   "cell_type": "code",
   "execution_count": null,
   "metadata": {
    "collapsed": true,
    "pycharm": {
     "is_executing": true
    }
   },
   "outputs": [],
   "source": [
    "import networkx as nx\n",
    "import itertools\n",
    "from itertools import chain, combinations\n",
    "\n",
    "from util.graph import generate_hard_to_color_graph\n",
    "\n",
    "\n",
    "def powerset(iterable):\n",
    "    \"powerset([1,2,3]) --> () (1,) (2,) (3,) (1,2) (1,3) (2,3) (1,2,3)\"\n",
    "    s = list(iterable)\n",
    "    return chain.from_iterable(combinations(s, r) for r in range(1, len(s)+1))\n",
    "\n",
    "def findsubsets(s, n):\n",
    "    return list(itertools.combinations(s, n))"
   ]
  },
  {
   "cell_type": "code",
   "execution_count": null,
   "outputs": [],
   "source": [
    "shc = nx.Graph()"
   ],
   "metadata": {
    "collapsed": false,
    "pycharm": {
     "name": "#%%\n",
     "is_executing": true
    }
   }
  },
  {
   "cell_type": "code",
   "execution_count": null,
   "outputs": [],
   "source": [
    "shc.add_edge(1, 2)\n",
    "shc.add_edge(1, 3)\n",
    "shc.add_edge(1, 4)\n",
    "shc.add_edge(2, 3)\n",
    "shc.add_edge(2, 5)\n",
    "shc.add_edge(4, 6)\n",
    "shc.add_edge(4, 7)\n",
    "shc.add_edge(5, 6)\n",
    "shc.add_edge(5, 7)\n",
    "shc.add_edge(6, 7)"
   ],
   "metadata": {
    "collapsed": false,
    "pycharm": {
     "name": "#%%\n",
     "is_executing": true
    }
   }
  },
  {
   "cell_type": "code",
   "execution_count": null,
   "outputs": [],
   "source": [
    "nx.draw(shc, with_labels=True)"
   ],
   "metadata": {
    "collapsed": false,
    "pycharm": {
     "name": "#%%\n",
     "is_executing": true
    }
   }
  },
  {
   "cell_type": "code",
   "execution_count": null,
   "outputs": [],
   "source": [
    "HC = nx.complement(nx.complement(shc))\n",
    "HC.add_edge(1, 8)\n",
    "HC.add_edge(2, 8)\n",
    "nx.draw(HC, with_labels=True)"
   ],
   "metadata": {
    "collapsed": false,
    "pycharm": {
     "name": "#%%\n",
     "is_executing": true
    }
   }
  },
  {
   "cell_type": "code",
   "execution_count": null,
   "outputs": [],
   "source": [
    "#HC = generate_hard_to_color_graph(10)\n",
    "\n",
    "for anti_hole, G in enumerate([HC, nx.complement(HC)]):\n",
    "    for i in range(5, len(HC), 2):\n",
    "        for sub in findsubsets(G.nodes, i):\n",
    "            sub_G = G.subgraph(sub)\n",
    "            try:\n",
    "                assert len(nx.find_cycle(sub_G)) == i\n",
    "            except BaseException:\n",
    "                continue\n",
    "\n",
    "            if nx.triangles(sub_G) != 0:\n",
    "                print(f\"found an odd hole/anti-hole of nodes {sub}. Complement: {anti_hole}\")\n",
    "                nx.draw(sub_G)\n",
    "                break"
   ],
   "metadata": {
    "collapsed": false,
    "pycharm": {
     "name": "#%%\n",
     "is_executing": true
    }
   }
  },
  {
   "cell_type": "code",
   "execution_count": null,
   "outputs": [],
   "source": [
    "#nx.draw(generate_hard_to_color_graph(10), with_labels=True)"
   ],
   "metadata": {
    "collapsed": false,
    "pycharm": {
     "name": "#%%\n",
     "is_executing": true
    }
   }
  },
  {
   "cell_type": "code",
   "execution_count": null,
   "outputs": [],
   "source": [
    "print(nx.greedy_color(HC, 'DSATUR'))\n",
    "print(set(nx.greedy_color(generate_hard_to_color_graph(10), 'DSATUR').values()))"
   ],
   "metadata": {
    "collapsed": false,
    "pycharm": {
     "name": "#%%\n",
     "is_executing": true
    }
   }
  }
 ],
 "metadata": {
  "kernelspec": {
   "display_name": "Python 3",
   "language": "python",
   "name": "python3"
  },
  "language_info": {
   "codemirror_mode": {
    "name": "ipython",
    "version": 2
   },
   "file_extension": ".py",
   "mimetype": "text/x-python",
   "name": "python",
   "nbconvert_exporter": "python",
   "pygments_lexer": "ipython2",
   "version": "2.7.6"
  }
 },
 "nbformat": 4,
 "nbformat_minor": 0
}